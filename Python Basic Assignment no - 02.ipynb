{
 "cells": [
  {
   "cell_type": "markdown",
   "id": "7d88e9d8",
   "metadata": {},
   "source": [
    "## 1.What are the two values of the Boolean data type? How do you write them?"
   ]
  },
  {
   "cell_type": "markdown",
   "id": "4d14315a",
   "metadata": {},
   "source": [
    "-> The Boolean data type represents a logical value that can be either true or false. These two values are the only possible values for the Boolean data type.\n",
    "\n",
    "->True and False are internally represented as integers, where True is represented as 1 and False is represented as 0."
   ]
  },
  {
   "cell_type": "code",
   "execution_count": null,
   "id": "816b8db1",
   "metadata": {},
   "outputs": [],
   "source": []
  },
  {
   "cell_type": "markdown",
   "id": "fa3892ca",
   "metadata": {},
   "source": [
    "## 2. What are the three different types of Boolean operators?"
   ]
  },
  {
   "cell_type": "markdown",
   "id": "df7b41c0",
   "metadata": {},
   "source": [
    "The three differnt types of Boolean operators are:\n",
    "\n",
    "1.AND Operator: The AND operator returns true if both operands are true, and other wise it returns false. It is represented by the symbol \"&&\" or the keyword \"and\" in most programming languages.\n",
    "\n",
    "2.OR Operator: The OR operator returns true if at least one of the operands is true, and false if both operands are false. It is represented by the symbol \"||\" or the keyword \"or\" in most programming languages.\n",
    "\n",
    "3.NOT Operator: The NOT operator is a unary operator that negates the value of its operand. It returns true if the operand is false, and false if the operand is true. It is represented by the symbol \"!\" or the keyword \"not\" in most programming languages"
   ]
  },
  {
   "cell_type": "markdown",
   "id": "064acb6c",
   "metadata": {},
   "source": [
    "## 3.Make a list of each Boolean operator's truth tables (i.e. every possible combination of Boolean values for the operator and what it evaluate ).\n"
   ]
  },
  {
   "cell_type": "markdown",
   "id": "0a4a105c",
   "metadata": {},
   "source": [
    "1.AND Operator(&& or 'and')"
   ]
  },
  {
   "cell_type": "code",
   "execution_count": null,
   "id": "f52abeef",
   "metadata": {},
   "outputs": [],
   "source": [
    "\"\"\" | Operand 1 | Operand 2 | Result |\n",
    "    |-----------|-----------|--------|\n",
    "    |   False   |   False   | False  |\n",
    "    |   False   |   True    | False  |\n",
    "    |   True    |   False   | False  |\n",
    "    |   True    |   True    | True   |\n",
    "    |-----------|-----------|--------|\n"
   ]
  },
  {
   "cell_type": "markdown",
   "id": "765c89cb",
   "metadata": {},
   "source": [
    "2.OR Operator(|| or 'or')"
   ]
  },
  {
   "cell_type": "code",
   "execution_count": null,
   "id": "6006d30b",
   "metadata": {},
   "outputs": [],
   "source": [
    "\"\"\"| Operand 1 | Operand 2 | Result |\n",
    "   |-----------|-----------|--------|\n",
    "   |   False   |   False   | False  |\n",
    "   |   False   |   True    | True   |\n",
    "   |   True    |   False   | True   |\n",
    "   |   True    |   True    | False  |\n",
    "   |-----------|-----------|--------|\n"
   ]
  },
  {
   "cell_type": "markdown",
   "id": "273e5b36",
   "metadata": {},
   "source": [
    "3.Not operator( ! or \"not\")"
   ]
  },
  {
   "cell_type": "code",
   "execution_count": null,
   "id": "c82ab941",
   "metadata": {},
   "outputs": [],
   "source": [
    "\"\"\"| Operand   | Result    |\n",
    "   |-----------|-----------|\n",
    "   |   False   |   True    |\n",
    "   |   True    |   False   | \n",
    "   |-----------|-----------|\n"
   ]
  },
  {
   "cell_type": "markdown",
   "id": "1856172b",
   "metadata": {},
   "source": [
    "## 4. What are the values of the following expressions?\n",
    "\n"
   ]
  },
  {
   "cell_type": "markdown",
   "id": "5d39f129",
   "metadata": {},
   "source": [
    "(i).(5 > 4) and (3 == 5) ->> False\n",
    "\n",
    "(ii).not (5 > 4) ->> False\n",
    "\n",
    "(iii).(5 > 4) or (3 == 5) ->> True\n",
    "\n",
    "(iv).not ((5 > 4) or (3 == 5)) ->> False\n",
    "\n",
    "(v).(True and True) and (True == False) ->> False\n",
    "\n",
    "(vi).(not False) or (not True) ->> True"
   ]
  },
  {
   "cell_type": "markdown",
   "id": "b6a21cc7",
   "metadata": {},
   "source": [
    "## 5. What are the six comparison operators?"
   ]
  },
  {
   "cell_type": "markdown",
   "id": "1f90c8bb",
   "metadata": {},
   "source": [
    "Comparision Operators: Comparision operators are commonly used to copmpare value in programming.They return Boolean value (True or False) based on the comparision result.\n",
    "\n",
    "Following are the six comparison operators\n",
    "\n",
    "1.Equals to (==) :- It checks if the value of two operands are equal.\n",
    "\n",
    "2.Not equal to (!=): It checks if the values of two operands are not equal.\n",
    "\n",
    "3.Greater than (>): It checks if the value of the left operand is greater than the value of the right operand.\n",
    "\n",
    "4.Less than (<): It checks if the value of the left operand is less than the value of the right operand.\n",
    "\n",
    "5.Greater than or equal to (>=): It checks if the value of the left operand is greater than or equal to the value of the right operand.\n",
    "\n",
    "6.Less than or equal to (<=): It checks if the value of the left operand is less than or equal to the value of the right operand."
   ]
  },
  {
   "cell_type": "markdown",
   "id": "a7dfc10b",
   "metadata": {},
   "source": [
    "## 6. How do you tell the difference between the equal to and assignment operators?Describe a condition and when you would use one.\n"
   ]
  },
  {
   "cell_type": "markdown",
   "id": "c4bf4340",
   "metadata": {},
   "source": [
    "1.Equal to (==) Operator:\n",
    "\n",
    "The equal to operator (==) is a comparison operator used to check if the values on both sides are equal. It evaluates to True if the values are equal and False if the values are not equal."
   ]
  },
  {
   "cell_type": "code",
   "execution_count": null,
   "id": "1780ea9d",
   "metadata": {},
   "outputs": [],
   "source": [
    "x = 10\n",
    "y = 15\n",
    "\n",
    "if x == y :\n",
    "    print(\"The value of x and y are equal\")\n",
    "else:\n",
    "    print(\"The value of x and y are not equal\")"
   ]
  },
  {
   "cell_type": "markdown",
   "id": "fa772bf8",
   "metadata": {},
   "source": [
    "Assignment (=) Operator:\n",
    "\n",
    "The assignment operator (=) is used to assign a value to a variable. It assigns the value on the right side to the variable on the left side."
   ]
  },
  {
   "cell_type": "code",
   "execution_count": null,
   "id": "2a1979e1",
   "metadata": {},
   "outputs": [],
   "source": [
    "x = 7\n",
    "\n",
    "y = x + 7\n",
    "\n",
    "print(y)"
   ]
  },
  {
   "cell_type": "markdown",
   "id": "820b42fa",
   "metadata": {},
   "source": [
    "When we would use each:\n",
    "\n",
    "(i).Use the equal to (==) operator when we want to compare the equality of values in conditions, such as in if statements or while loops.\n",
    "\n",
    "(ii).Use the assignment (=) operator when we want to assign a value to a variable. It is typically used during variable initialization or when updating the value of a variable."
   ]
  },
  {
   "cell_type": "markdown",
   "id": "54f6b3b5",
   "metadata": {},
   "source": [
    "## 7. Identify the three blocks in this code:\n",
    "spam = 0\n",
    "\n",
    "if spam == 10:\n",
    "\n",
    "print('eggs')\n",
    "\n",
    "if spam > 5:\n",
    "\n",
    "print('bacon')\n",
    "\n",
    "else:\n",
    "\n",
    "print('ham')\n",
    "\n",
    "print('spam')\n",
    "\n",
    "print('spam')"
   ]
  },
  {
   "cell_type": "markdown",
   "id": "affc8acb",
   "metadata": {},
   "source": [
    "#### Following are the three blocks from this code"
   ]
  },
  {
   "cell_type": "markdown",
   "id": "3022bfda",
   "metadata": {},
   "source": [
    "Block 1:"
   ]
  },
  {
   "cell_type": "code",
   "execution_count": null,
   "id": "e4add663",
   "metadata": {},
   "outputs": [],
   "source": [
    "spam = 0\n",
    "\n",
    "if spam == 10:\n",
    "    print(\"eggs\")\n",
    "    \n"
   ]
  },
  {
   "cell_type": "markdown",
   "id": "7edb579c",
   "metadata": {},
   "source": [
    "This code nested under the if statement and is executed if the condition spam == 10, evaluates to true.\n"
   ]
  },
  {
   "cell_type": "markdown",
   "id": "d79a8708",
   "metadata": {},
   "source": [
    "Block 2:"
   ]
  },
  {
   "cell_type": "code",
   "execution_count": null,
   "id": "4ab6feb3",
   "metadata": {},
   "outputs": [],
   "source": [
    "if spam > 5:\n",
    "    print('bacon')"
   ]
  },
  {
   "cell_type": "markdown",
   "id": "eea16f3c",
   "metadata": {},
   "source": [
    "This block is also nested under an if statement. It is executed if the condition spam > 5, evaluates to true. It contains a single line that prints the string 'bacon'."
   ]
  },
  {
   "cell_type": "markdown",
   "id": "2f27fc9f",
   "metadata": {},
   "source": [
    "Block 3:\n"
   ]
  },
  {
   "cell_type": "code",
   "execution_count": null,
   "id": "4c77968f",
   "metadata": {},
   "outputs": [],
   "source": [
    "else:\n",
    "    print('ham')\n",
    "    print('spam')\n",
    "    print('spam')"
   ]
  },
  {
   "cell_type": "markdown",
   "id": "933d0eb3",
   "metadata": {},
   "source": [
    "This block is not nested under any conditional statement and is executed when the condition spam > 5 in the previous if statement evaluates to false. It consists of three lines that print the strings 'ham', 'spam', and 'spam'. The three print statements are not part of any conditional block, and they will be executed regardless of the condition evaluation."
   ]
  },
  {
   "cell_type": "code",
   "execution_count": null,
   "id": "bc983025",
   "metadata": {},
   "outputs": [],
   "source": []
  },
  {
   "cell_type": "markdown",
   "id": "a9621954",
   "metadata": {},
   "source": [
    "## 8. Write code that prints Hello if 1 is stored in spam, prints Howdy if 2 is stored in spam, and prints Greetings! if anything else is stored in spam.\n"
   ]
  },
  {
   "cell_type": "code",
   "execution_count": 2,
   "id": "a3828c68",
   "metadata": {},
   "outputs": [
    {
     "name": "stdout",
     "output_type": "stream",
     "text": [
      "Greetings!\n"
     ]
    }
   ],
   "source": [
    "spam = 5\n",
    "\n",
    "if spam == 1:\n",
    "    print(\"Hello\")\n",
    "    \n",
    "elif spam == 2:\n",
    "    print(\"Howdy\")\n",
    "else:\n",
    "    print(\"Greetings!\")"
   ]
  },
  {
   "cell_type": "markdown",
   "id": "7072a9ea",
   "metadata": {},
   "source": [
    "## 9.If your programme is stuck in an endless loop, what keys you’ll press?"
   ]
  },
  {
   "cell_type": "markdown",
   "id": "e19e6bec",
   "metadata": {},
   "source": [
    "If the  program is stuck in an endless loop and i have to to stop its execution, i would typically press the following key combinations based on the operating system and development environment:\n",
    "\n",
    "1.<strong>Windows/Linux:\n",
    "\n",
    "Press Ctrl + C or Ctrl + Break in the command prompt or terminal where the program is running.\n",
    "\n",
    "In some integrated development environments (IDEs), such as PyCharm or Visual Studio Code, I have to press Ctrl + F5 or Ctrl + Shift + F5 to forcefully stop the program.\n",
    "\n",
    "2.<strong>macOS:\n",
    "\n",
    "Press 'Command + .' (Command key + Period) in the terminal or the IDE to interrupt the program execution."
   ]
  },
  {
   "cell_type": "markdown",
   "id": "f8e8e4aa",
   "metadata": {},
   "source": [
    "##  10. How can you tell the difference between break and continue?"
   ]
  },
  {
   "cell_type": "markdown",
   "id": "be80be51",
   "metadata": {},
   "source": [
    "<strong>1.break statement:\n",
    "\n",
    "(i)The break statement is used to immediately exit the loop.\n",
    "\n",
    "(ii)The break statement terminates the entire loop and the control flow continues with the statement following the loop.\n",
    "\n",
    "(iii)It is also used when a certain condition is met, and we want to stop the loop prematurely.\n"
   ]
  },
  {
   "cell_type": "code",
   "execution_count": 3,
   "id": "7bd0c89f",
   "metadata": {},
   "outputs": [
    {
     "name": "stdout",
     "output_type": "stream",
     "text": [
      "1\n",
      "2\n",
      "3\n",
      "4\n",
      "5\n"
     ]
    }
   ],
   "source": [
    "for i in range(1, 10):\n",
    "    if i == 6:\n",
    "        break\n",
    "    print(i)"
   ]
  },
  {
   "cell_type": "markdown",
   "id": "2733683e",
   "metadata": {},
   "source": [
    "The break statement is used to exit the loop when the value of i becomes 6. Therefore, only the values 1,2,3,4 and 5 are printed, and the loop terminates."
   ]
  },
  {
   "cell_type": "markdown",
   "id": "fa1a270d",
   "metadata": {},
   "source": [
    "<strong>2.continue statemrnt:\n",
    "\n",
    "(i)The continue statement is used to skip the current iteration of the loop and continue with the next iteration.\n",
    "    \n",
    "(ii)When encountered, the continue statement stops the execution of the current iteration and proceeds with the next iteration of the loop.\n",
    "    \n",
    "(iii)It is commonly used when you want to skip certain iterations based on a specific condition.\n",
    "    "
   ]
  },
  {
   "cell_type": "code",
   "execution_count": 4,
   "id": "ef9f82e6",
   "metadata": {},
   "outputs": [
    {
     "name": "stdout",
     "output_type": "stream",
     "text": [
      "1\n",
      "2\n",
      "3\n",
      "4\n",
      "5\n",
      "7\n",
      "8\n",
      "9\n"
     ]
    }
   ],
   "source": [
    "for i in range(1, 10):\n",
    "    if i == 6:\n",
    "        continue\n",
    "    print(i)"
   ]
  },
  {
   "cell_type": "markdown",
   "id": "6f7b6848",
   "metadata": {},
   "source": [
    "The continue statement is used to skip the iteration when the value of i is 6. As a result, the value 6 is not printed, and the loop continues with the next iteration, printing the values 1, 2,3,4,5,7,8 and 9"
   ]
  },
  {
   "cell_type": "markdown",
   "id": "b87ff587",
   "metadata": {},
   "source": [
    "## 11. In a for loop, what is the difference between range(10), range(0, 10), and range(0, 10, 1)?"
   ]
  },
  {
   "cell_type": "markdown",
   "id": "2f3989be",
   "metadata": {},
   "source": [
    "\n",
    "<strong>In a for loop, the range() function is commonly used to generate a sequence of numbers that the loop iterates over. Here's the difference between range(10), range(0, 10), and range(0, 10, 1):\n",
    "\n",
    "<strong>range(10):\n",
    "\n",
    "(i)This specifies a range that starts from 0 (the default start value) and ends at 10 (exclusive).\n",
    "    \n",
    "(ii)The step value is not explicitly specified and defaults to 1.\n",
    "    \n",
    "(iii)It generates a sequence of numbers from 0 to 9, as 10 is not included."
   ]
  },
  {
   "cell_type": "code",
   "execution_count": 5,
   "id": "0a4d85d6",
   "metadata": {},
   "outputs": [
    {
     "name": "stdout",
     "output_type": "stream",
     "text": [
      "0\n",
      "1\n",
      "2\n",
      "3\n",
      "4\n",
      "5\n",
      "6\n",
      "7\n",
      "8\n",
      "9\n"
     ]
    }
   ],
   "source": [
    "for i in range(10):\n",
    "    print(i)"
   ]
  },
  {
   "cell_type": "markdown",
   "id": "e4f2ce2e",
   "metadata": {},
   "source": [
    "<stron>range(0, 10):\n",
    "\n",
    "(i)This explicitly specifies the start value as 0 and the end value as 10 (exclusive).\n",
    "\n",
    "(ii)The step value is not explicitly specified and defaults to 1.\n",
    "\n",
    "(iii)It generates a sequence of numbers from 0 to 9, where 0 is included, but 10 is not."
   ]
  },
  {
   "cell_type": "code",
   "execution_count": 6,
   "id": "06ce8391",
   "metadata": {},
   "outputs": [
    {
     "name": "stdout",
     "output_type": "stream",
     "text": [
      "0\n",
      "1\n",
      "2\n",
      "3\n",
      "4\n",
      "5\n",
      "6\n",
      "7\n",
      "8\n",
      "9\n"
     ]
    }
   ],
   "source": [
    "for i in range(0,10):\n",
    "    print(i)"
   ]
  },
  {
   "cell_type": "markdown",
   "id": "a64f38dd",
   "metadata": {},
   "source": [
    "<strong>range(0, 10, 1):\n",
    "\n",
    "(i)This explicitly specifies the start value as 0, the end value as 10 (exclusive), and the step value as 1.\n",
    "    \n",
    "(ii)The step value determines the increment between each number in the sequence.\n",
    "    \n",
    "(iii)It generates a sequence of numbers from 0 to 9, where 0 is included, but 10 is not."
   ]
  },
  {
   "cell_type": "code",
   "execution_count": 7,
   "id": "ffdbc5bf",
   "metadata": {},
   "outputs": [
    {
     "name": "stdout",
     "output_type": "stream",
     "text": [
      "0\n",
      "1\n",
      "2\n",
      "3\n",
      "4\n",
      "5\n",
      "6\n",
      "7\n",
      "8\n",
      "9\n"
     ]
    }
   ],
   "source": [
    "for i in range(0,10,1):\n",
    "    print(i)"
   ]
  },
  {
   "cell_type": "markdown",
   "id": "634415de",
   "metadata": {},
   "source": [
    "## 12. Write a short program that prints the numbers 1 to 10 using a for loop. Then write an equivalent program that prints the numbers 1 to 10 using a while loop.\n"
   ]
  },
  {
   "cell_type": "markdown",
   "id": "8eec0f5d",
   "metadata": {},
   "source": [
    "<strong>Printing numbers 1 to 10 using a for loop:"
   ]
  },
  {
   "cell_type": "code",
   "execution_count": 8,
   "id": "ef069c72",
   "metadata": {},
   "outputs": [
    {
     "name": "stdout",
     "output_type": "stream",
     "text": [
      "1\n",
      "2\n",
      "3\n",
      "4\n",
      "5\n",
      "6\n",
      "7\n",
      "8\n",
      "9\n",
      "10\n"
     ]
    }
   ],
   "source": [
    "for i in range(1,11):\n",
    "    print(i)"
   ]
  },
  {
   "cell_type": "markdown",
   "id": "763eb404",
   "metadata": {},
   "source": [
    "<strong>Printing numbers 1 to 10 using a while loop:"
   ]
  },
  {
   "cell_type": "code",
   "execution_count": 9,
   "id": "8eb4101d",
   "metadata": {},
   "outputs": [
    {
     "name": "stdout",
     "output_type": "stream",
     "text": [
      "1\n",
      "2\n",
      "3\n",
      "4\n",
      "5\n",
      "6\n",
      "7\n",
      "8\n",
      "9\n",
      "10\n"
     ]
    }
   ],
   "source": [
    "x = 1\n",
    "\n",
    "while x <= 10:\n",
    "    print(x)\n",
    "    x +=1"
   ]
  },
  {
   "cell_type": "markdown",
   "id": "9131fbc0",
   "metadata": {},
   "source": [
    "## 13. If you had a function named bacon() inside a module named spam, how would you call it after importing spam?\n"
   ]
  },
  {
   "cell_type": "markdown",
   "id": "ee7b4748",
   "metadata": {},
   "source": [
    "We can call the function by using spam.bacon()"
   ]
  },
  {
   "cell_type": "code",
   "execution_count": null,
   "id": "158260c4",
   "metadata": {},
   "outputs": [],
   "source": []
  }
 ],
 "metadata": {
  "kernelspec": {
   "display_name": "Python 3 (ipykernel)",
   "language": "python",
   "name": "python3"
  },
  "language_info": {
   "codemirror_mode": {
    "name": "ipython",
    "version": 3
   },
   "file_extension": ".py",
   "mimetype": "text/x-python",
   "name": "python",
   "nbconvert_exporter": "python",
   "pygments_lexer": "ipython3",
   "version": "3.9.12"
  }
 },
 "nbformat": 4,
 "nbformat_minor": 5
}
